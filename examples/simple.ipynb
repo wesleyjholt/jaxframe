{
 "cells": [
  {
   "cell_type": "markdown",
   "id": "61de7ca0",
   "metadata": {},
   "source": [
    "# JAXFrame JIT Printing Examples\n",
    "\n",
    "This notebook demonstrates the JIT-compatible printing functionality in JAXFrame, including the improved tracer formatting that shows clean output like \"f32[3]\" instead of ugly tracer representations."
   ]
  },
  {
   "cell_type": "code",
   "execution_count": 1,
   "id": "d91fea52",
   "metadata": {},
   "outputs": [
    {
     "name": "stdout",
     "output_type": "stream",
     "text": [
      "JAX version: 0.7.1\n",
      "JAXFrame JIT printing ready!\n"
     ]
    }
   ],
   "source": [
    "import jax\n",
    "import jax.numpy as jnp\n",
    "import numpy as np\n",
    "from jaxframe import DataFrame, MaskedArray\n",
    "from jaxframe.jitprint import jit_print_dataframe, jit_print_masked_array\n",
    "\n",
    "print(\"JAX version:\", jax.__version__)\n",
    "print(\"JAXFrame JIT printing ready!\")"
   ]
  },
  {
   "cell_type": "markdown",
   "id": "1bb2632f",
   "metadata": {},
   "source": [
    "## Example 1: DataFrame Printing with Static Arguments\n",
    "\n",
    "Here we show how to print a JAXFrame DataFrame inside a JIT-compiled function using static arguments."
   ]
  },
  {
   "cell_type": "code",
   "execution_count": null,
   "id": "4360ea52",
   "metadata": {},
   "outputs": [
    {
     "name": "stdout",
     "output_type": "stream",
     "text": [
      "Original DataFrame:\n",
      "DataFrame 'sample_data'(3 rows, 3 columns)\n",
      "Columns: id, value, active\n",
      "  [0]: {'id': '1', 'value': '10.500', 'active': 'True'}\n",
      "  [1]: {'id': '2', 'value': '20.700', 'active': 'False'}\n",
      "  [2]: {'id': '3', 'value': '30.900', 'active': 'True'}\n",
      "DataFrame 'sample_data'(3 rows, 3 columns)\n",
      "Columns: id, value, active\n",
      "  [0]: {'id': '1', 'value': '10.500', 'active': 'True'}\n",
      "  [1]: {'id': '2', 'value': '20.700', 'active': 'False'}\n",
      "  [2]: {'id': '3', 'value': '30.900', 'active': 'True'}\n",
      "=== Processing started ===\n",
      "Columns: id, value, active\n",
      "=== Processing complete ===\n",
      "  [2]: {'id': '3', 'value': '30.900', 'active': 'True'}\n",
      "  [1]: {'id': '2', 'value': '20.700', 'active': 'False'}\n",
      "  [0]: {'id': '1', 'value': '10.500', 'active': 'True'}\n",
      "DataFrame 'sample_data'(3 rows, 3 columns)\n",
      "Sum result: 12.0\n",
      "\n",
      "Final result: 12.0\n"
     ]
    }
   ],
   "source": [
    "# Create a simple DataFrame\n",
    "df = DataFrame({\n",
    "    'id': [1, 2, 3],\n",
    "    'value': [10.5, 20.7, 30.9],\n",
    "    'active': [True, False, True]\n",
    "}, name=\"sample_data\")\n",
    "\n",
    "print(\"Original DataFrame:\")\n",
    "print(df)\n",
    "\n",
    "def process_with_dataframe_info(data_array, metadata_df):\n",
    "    \"\"\"Function that processes data and prints DataFrame info inside JIT.\"\"\"\n",
    "    jax.debug.print(\"=== Processing started ===\")\n",
    "\n",
    "    metadata_df.add_column('more_values', data_array)\n",
    "    \n",
    "    # Print the DataFrame structure\n",
    "    jit_print_dataframe(metadata_df)\n",
    "    # print(metadata_df)\n",
    "    \n",
    "    # Process the data\n",
    "    result = jnp.sum(data_array) * 2\n",
    "    \n",
    "    jax.debug.print(\"Sum result: {}\", result)\n",
    "    jax.debug.print(\"=== Processing complete ===\")\n",
    "    \n",
    "    return result\n",
    "\n",
    "# Use static_argnames to pass the DataFrame as a static argument\n",
    "process_jit = jax.jit(process_with_dataframe_info, static_argnames=['metadata_df'])\n",
    "\n",
    "# Run the JIT function\n",
    "input_data = jnp.array([1.0, 2.0, 3.0])\n",
    "result = process_jit(input_data, df)\n",
    "\n",
    "print(f\"\\nFinal result: {result}\")"
   ]
  },
  {
   "cell_type": "markdown",
   "id": "a3c2a0de",
   "metadata": {},
   "source": [
    "## Example 2: Beautiful Tracer Formatting\n",
    "\n",
    "This example shows how JAX tracers are formatted cleanly (e.g., \"f32[3]\") instead of showing ugly tracer representations."
   ]
  },
  {
   "cell_type": "code",
   "execution_count": 4,
   "id": "238685d3",
   "metadata": {},
   "outputs": [
    {
     "name": "stdout",
     "output_type": "stream",
     "text": [
      "\\n=== DataFrame with JAX Tracers ===\n",
      "Note: Tracers show as clean 'dtype[shape]' format, not ugly representations\n",
      "Columns: student_id, score, passing, category\n",
      "\\nComputations:\n",
      "  [3]: {'student_id': 'i32', 'score': 'f32', 'passing': 'bool', 'category': 'i32'}\n",
      "  [2]: {'student_id': 'i32', 'score': 'f32', 'passing': 'bool', 'category': 'i32'}\n",
      "  [1]: {'student_id': 'i32', 'score': 'f32', 'passing': 'bool', 'category': 'i32'}\n",
      "  [0]: {'student_id': 'i32', 'score': 'f32', 'passing': 'bool', 'category': 'i32'}\n",
      "DataFrame 'student_grades'(4 rows, 4 columns)\n",
      "Students passing: 4\n",
      "Average score: 91.1500015258789\n",
      "\\nAverage score: 91.15\n"
     ]
    }
   ],
   "source": [
    "from jaxframe.jitprint import jit_print_dataframe_data\n",
    "\n",
    "@jax.jit\n",
    "def demonstrate_tracer_formatting():\n",
    "    \"\"\"Show how JAX tracers are formatted cleanly in DataFrame data.\"\"\"\n",
    "    \n",
    "    # These arrays will be tracers inside the JIT context\n",
    "    ids = jnp.array([1, 2, 3, 4])\n",
    "    scores = jnp.array([95.5, 87.2, 92.1, 89.8])\n",
    "    is_passing = jnp.array([True, True, True, True])\n",
    "    categories = jnp.array([0, 1, 0, 1])  # categorical data\n",
    "    \n",
    "    # Create a DataFrame-like structure with tracers\n",
    "    data = {\n",
    "        'student_id': ids,\n",
    "        'score': scores, \n",
    "        'passing': is_passing,\n",
    "        'category': categories\n",
    "    }\n",
    "    columns = ['student_id', 'score', 'passing', 'category']\n",
    "    \n",
    "    jax.debug.print(\"\\\\n=== DataFrame with JAX Tracers ===\")\n",
    "    jax.debug.print(\"Note: Tracers show as clean 'dtype[shape]' format, not ugly representations\")\n",
    "    \n",
    "    # This will show tracers in a clean format like 'i32[4]', 'f32[4]', etc.\n",
    "    jit_print_dataframe_data(data, columns, 4, \"student_grades\")\n",
    "    \n",
    "    # Show some computation with the data\n",
    "    avg_score = jnp.mean(scores)\n",
    "    total_passing = jnp.sum(is_passing)\n",
    "    \n",
    "    jax.debug.print(\"\\\\nComputations:\")\n",
    "    jax.debug.print(\"Average score: {}\", avg_score)\n",
    "    jax.debug.print(\"Students passing: {}\", total_passing)\n",
    "    \n",
    "    return avg_score\n",
    "\n",
    "# Run the demonstration\n",
    "result = demonstrate_tracer_formatting()\n",
    "print(f\"\\\\nAverage score: {result:.2f}\")"
   ]
  },
  {
   "cell_type": "markdown",
   "id": "1cb65829",
   "metadata": {},
   "source": [
    "## Example 3: MaskedArray Printing in JIT\n",
    "\n",
    "This shows how to print MaskedArray objects inside JIT-compiled functions."
   ]
  },
  {
   "cell_type": "code",
   "execution_count": 6,
   "id": "61ddeddd",
   "metadata": {},
   "outputs": [
    {
     "name": "stdout",
     "output_type": "stream",
     "text": [
      "Original MaskedArray:\n",
      "MaskedArray(3 rows, 3 columns)\n",
      "Valid values: 6/9 (66.7%)\n",
      "Index DataFrame: 3 rows, 1 columns\n",
      "\\n=== Processing Masked Data ===\n",
      "Valid values: 6/9 (66.7%)\n",
      "MaskedArray(3 rows, 3 columns)\n",
      "Index DataFrame: 3 rows, 1 columns\n",
      "Sum of squares: 30.0\n",
      "\\nComputation result: 30.0\n"
     ]
    }
   ],
   "source": [
    "# Create a MaskedArray with some missing data\n",
    "data = jnp.array([[1.5, 2.7, 3.2], \n",
    "                  [4.1, 5.9, 6.3],\n",
    "                  [7.8, 8.1, 9.4]])\n",
    "\n",
    "# Mask: True = valid data, False = missing/invalid data  \n",
    "mask = np.array([[True, False, True],\n",
    "                 [True, True, False], \n",
    "                 [False, True, True]])\n",
    "\n",
    "index_df = DataFrame({'sample': ['A', 'B', 'C']})\n",
    "ma = MaskedArray(data, mask, index_df)\n",
    "\n",
    "print(\"Original MaskedArray:\")\n",
    "print(ma)\n",
    "\n",
    "def process_masked_data(computation_data, metadata_ma):\n",
    "    \"\"\"Process data while printing MaskedArray metadata.\"\"\"\n",
    "    jax.debug.print(\"\\\\n=== Processing Masked Data ===\")\n",
    "    \n",
    "    # Print the MaskedArray structure\n",
    "    jit_print_masked_array(metadata_ma)\n",
    "    \n",
    "    # Do some computation\n",
    "    result = jnp.sum(computation_data ** 2)\n",
    "    jax.debug.print(\"Sum of squares: {}\", result)\n",
    "    \n",
    "    return result\n",
    "\n",
    "# JIT compile with static MaskedArray\n",
    "process_jit = jax.jit(process_masked_data, static_argnames=['metadata_ma'])\n",
    "\n",
    "# Run with computation data\n",
    "computation_input = jnp.array([[1.0, 2.0], [3.0, 4.0]])\n",
    "result = process_jit(computation_input, ma)\n",
    "\n",
    "print(f\"\\\\nComputation result: {result}\")"
   ]
  },
  {
   "cell_type": "markdown",
   "id": "cac8d9a8",
   "metadata": {},
   "source": [
    "## Example 4: Before and After - Tracer Formatting Improvement\n",
    "\n",
    "This example demonstrates the difference between ugly default tracer output and our clean formatting."
   ]
  },
  {
   "cell_type": "code",
   "execution_count": 7,
   "id": "020c6c90",
   "metadata": {},
   "outputs": [
    {
     "name": "stdout",
     "output_type": "stream",
     "text": [
      "\\n=== UGLY: Default tracer representations ===\n",
      "Float array: JitTracer<float32[3]>\n",
      "Int array: JitTracer<int32[3]>\n",
      "Scalar: JitTracer<~float32[]>\n",
      "Matrix: JitTracer<float32[2,2]>\n",
      "\\n=== CLEAN: Our improved formatting ===\n",
      "Float array: f32[3]\n",
      "Int array: i32[3]\n",
      "Scalar: f32\n",
      "Matrix: f32[2x2]\n",
      "\\n✨ Much better! Clean, readable, and concise.\n",
      "\\nSum result: 6.599999904632568\n"
     ]
    }
   ],
   "source": [
    "from jaxframe.jitprint import _format_value_for_jit_print\n",
    "\n",
    "@jax.jit  \n",
    "def compare_formatting():\n",
    "    \"\"\"Compare ugly default tracer strings vs our clean formatting.\"\"\"\n",
    "    \n",
    "    float_array = jnp.array([1.1, 2.2, 3.3])\n",
    "    int_array = jnp.array([10, 20, 30])\n",
    "    scalar = jnp.array(42.0)\n",
    "    matrix = jnp.array([[1.0, 2.0], [3.0, 4.0]])\n",
    "    \n",
    "    jax.debug.print(\"\\\\n=== UGLY: Default tracer representations ===\")\n",
    "    jax.debug.print(\"Float array: {}\", str(float_array))\n",
    "    jax.debug.print(\"Int array: {}\", str(int_array))\n",
    "    jax.debug.print(\"Scalar: {}\", str(scalar))\n",
    "    jax.debug.print(\"Matrix: {}\", str(matrix))\n",
    "    \n",
    "    jax.debug.print(\"\\\\n=== CLEAN: Our improved formatting ===\")\n",
    "    jax.debug.print(\"Float array: {}\", _format_value_for_jit_print(float_array))\n",
    "    jax.debug.print(\"Int array: {}\", _format_value_for_jit_print(int_array))\n",
    "    jax.debug.print(\"Scalar: {}\", _format_value_for_jit_print(scalar))\n",
    "    jax.debug.print(\"Matrix: {}\", _format_value_for_jit_print(matrix))\n",
    "    \n",
    "    jax.debug.print(\"\\\\n✨ Much better! Clean, readable, and concise.\")\n",
    "    \n",
    "    return jnp.sum(float_array)\n",
    "\n",
    "result = compare_formatting()\n",
    "print(f\"\\\\nSum result: {result}\")"
   ]
  },
  {
   "cell_type": "markdown",
   "id": "3f5d0620",
   "metadata": {},
   "source": [
    "## Summary\n",
    "\n",
    "The JAXFrame JIT printing functionality provides:\n",
    "\n",
    "✅ **JIT-Compatible Printing**: Use `jit_print_dataframe()` and `jit_print_masked_array()` inside `@jax.jit` functions\n",
    "\n",
    "✅ **Static Arguments**: Pass JAXFrame objects as static arguments using `static_argnames`\n",
    "\n",
    "✅ **Clean Tracer Formatting**: JAX tracers display as readable formats like `f32[3]` instead of ugly `JitTracer<float32[3]>` strings\n",
    "\n",
    "✅ **Complex Tracer Support**: Handles advanced tracers from `jax.grad`, `jax.jvp`, `jax.vmap` etc. that would otherwise show multi-line ugly output\n",
    "\n",
    "✅ **Emergency Catch-All**: Robust detection that catches even the most complex nested tracers with fallback to `<tracer>` when dtype/shape can't be extracted\n",
    "\n",
    "✅ **Comprehensive Support**: Works with all JAX data types, shapes, and both DataFrame and MaskedArray objects\n",
    "\n",
    "✅ **Seamless Integration**: Drop-in replacement for regular print statements in JIT contexts\n",
    "\n",
    "This makes debugging and monitoring JAX-compiled functions much more pleasant and readable, even when using the most advanced JAX transformations! No more ugly multi-line tracer output ever again."
   ]
  },
  {
   "cell_type": "markdown",
   "id": "5dd8bc05",
   "metadata": {},
   "source": [
    "## Example 5: Complex Tracers (JVP, Batched, etc.)\n",
    "\n",
    "This example shows how the improved tracer formatting handles complex tracers from autodiff operations like `jax.grad`, `jax.jvp`, etc."
   ]
  },
  {
   "cell_type": "code",
   "execution_count": 2,
   "id": "4220b480",
   "metadata": {},
   "outputs": [
    {
     "name": "stdout",
     "output_type": "stream",
     "text": [
      "Testing with complex JVP tracers from jax.grad...\n",
      "\\n=== Function with JVP Tracers ===\n",
      "DataFrame with JVP tracers (would be ugly without our formatting):\n",
      "Columns: original_x, original_y, computed_values\n",
      "  [2]: {'original_x': '30', 'original_y': '3.500', 'computed_values': 'f32'}\n",
      "  [1]: {'original_x': '20', 'original_y': '2.500', 'computed_values': 'f32'}\n",
      "  [0]: {'original_x': '10', 'original_y': '1.500', 'computed_values': 'f32'}\n",
      "DataFrame(3 rows, 3 columns)\n",
      "\\nGradient result: [2. 4. 6.]\n",
      "\\n✓ Notice how the JVP tracers show as clean 'f32' instead of multi-line ugly output!\n"
     ]
    }
   ],
   "source": [
    "# Example showing complex tracers from jax.grad (JVP tracers)\n",
    "def compute_with_grad(params, static_df):\n",
    "    \"\"\"Function that uses gradients, creating complex JVP tracers.\"\"\"\n",
    "    jax.debug.print(\"\\\\n=== Function with JVP Tracers ===\")\n",
    "    \n",
    "    # This creates a computation graph for gradient calculation\n",
    "    result = jnp.sum(params ** 2)\n",
    "    \n",
    "    # Add the JVP tracers to DataFrame - these used to show ugly output!\n",
    "    new_df = static_df.add_column('computed_values', params)\n",
    "    \n",
    "    jax.debug.print(\"DataFrame with JVP tracers (would be ugly without our formatting):\")\n",
    "    jit_print_dataframe(new_df)\n",
    "    \n",
    "    return result\n",
    "\n",
    "# Create a gradient function (this creates complex JVP tracers internally)\n",
    "grad_fn = jax.grad(compute_with_grad)\n",
    "grad_fn = jax.jit(grad_fn, static_argnames=['static_df'])\n",
    "\n",
    "# Test with a simple DataFrame\n",
    "test_df = DataFrame({\n",
    "    'original_x': [10, 20, 30],\n",
    "    'original_y': [1.5, 2.5, 3.5]\n",
    "})\n",
    "\n",
    "print(\"Testing with complex JVP tracers from jax.grad...\")\n",
    "test_params = jnp.array([1.0, 2.0, 3.0])\n",
    "\n",
    "# This will create JVP tracers internally and show them cleanly formatted\n",
    "gradient_result = grad_fn(test_params, test_df)\n",
    "\n",
    "print(f\"\\\\nGradient result: {gradient_result}\")\n",
    "print(\"\\\\n✓ Notice how the JVP tracers show as clean 'f32' instead of multi-line ugly output!\")"
   ]
  },
  {
   "cell_type": "markdown",
   "id": "87152fc5",
   "metadata": {},
   "source": [
    "## Example 6: Robust Handling of Any Complex Tracer\n",
    "\n",
    "This example shows how the tracer formatting now includes an emergency catch-all that handles even the most complex tracers that might slip through initial detection."
   ]
  },
  {
   "cell_type": "code",
   "execution_count": null,
   "id": "20579652",
   "metadata": {},
   "outputs": [],
   "source": [
    "# Demonstrate the robustness against complex tracers\n",
    "from jaxframe.jitprint import _format_value_for_jit_print\n",
    "\n",
    "# Create a very complex computational graph that generates nested tracers\n",
    "def create_very_complex_tracers(params, static_df):\n",
    "    \"\"\"Create the most complex tracers possible with multiple transformations.\"\"\"\n",
    "    \n",
    "    # Multiple reshape operations\n",
    "    reshaped = params.reshape(-1, 1)\n",
    "    squeezed = jnp.squeeze(reshaped, axis=1)\n",
    "    expanded = jnp.expand_dims(squeezed, axis=0)\n",
    "    final = jnp.squeeze(expanded, axis=0)\n",
    "    \n",
    "    # Add these complex tracers to DataFrame\n",
    "    truncated = final[:len(static_df._data[list(static_df._data.keys())[0]])]\n",
    "    new_df = static_df.add_column('very_complex_tracers', truncated)\n",
    "    \n",
    "    jax.debug.print(\"\\\\n=== DataFrame with Very Complex Tracers ===\")\n",
    "    jax.debug.print(\"These tracers went through: reshape -> squeeze -> expand_dims -> squeeze\")\n",
    "    jit_print_dataframe(new_df)\n",
    "    \n",
    "    return jnp.sum(final)\n",
    "\n",
    "# Apply multiple transformations to create the most complex tracers\n",
    "complex_grad = jax.grad(create_very_complex_tracers)\n",
    "complex_jit = jax.jit(complex_grad, static_argnames=['static_df'])\n",
    "\n",
    "# Test with complex operations\n",
    "robust_df = DataFrame({\n",
    "    'param_1': [1.0, 2.0],\n",
    "    'param_2': [3.0, 4.0]\n",
    "})\n",
    "\n",
    "print(\"Testing robust handling of very complex tracers...\")\n",
    "test_params = jnp.array([1.5, 2.5, 3.5])\n",
    "\n",
    "result = complex_jit(test_params, robust_df)\n",
    "print(f\"\\\\nComplex transformation result: {result}\")\n",
    "\n",
    "print(\"\\\\n✅ Even the most complex tracers are now handled gracefully!\")\n",
    "print(\"No more multi-line ugly output - just clean 'f32', 'i32[3]', etc.\")"
   ]
  }
 ],
 "metadata": {
  "kernelspec": {
   "display_name": ".venv (3.12.9)",
   "language": "python",
   "name": "python3"
  },
  "language_info": {
   "codemirror_mode": {
    "name": "ipython",
    "version": 3
   },
   "file_extension": ".py",
   "mimetype": "text/x-python",
   "name": "python",
   "nbconvert_exporter": "python",
   "pygments_lexer": "ipython3",
   "version": "3.12.9"
  }
 },
 "nbformat": 4,
 "nbformat_minor": 5
}
